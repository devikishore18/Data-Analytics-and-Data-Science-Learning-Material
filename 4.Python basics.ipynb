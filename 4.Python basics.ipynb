{
 "cells": [
  {
   "cell_type": "markdown",
   "id": "6d767678-2c9e-40d6-bbc7-87871b9368a3",
   "metadata": {},
   "source": [
    "# Python Basics\n",
    "\n",
    "A concise and beginner-friendly introduction to Python fundamentals.\n",
    "\n",
    "---\n",
    "\n",
    "##  1. What Is Python?\n",
    "\n",
    "Python is a **high-level, interpreted, general-purpose**, and **multi-paradigm** programming language created by Guido van Rossum in 1991. It emphasizes **readability**, using whitespace and indentation to define code blocks rather than braces. Python supports object-oriented, procedural, and functional programming styles. Its syntax is concise yet expressive, making it ideal for beginners and professionals alike. \n",
    "\n",
    "---\n",
    "\n",
    "##  2. Why Python?\n",
    "\n",
    "- **Readability & Simplicity**: Clean syntax that reads like English, reducing boilerplate.   \n",
    "- **Cross-Platform Compatibility**: Runs on Windows, macOS, Linux, Raspberry Pi, and more.  \n",
    "- **Rich Standard Library & Ecosystem**: Extensive libraries for web development, data analysis, machine learning, automation, and GUI development.  \n",
    "- **Interpreted & Dynamically Typed**: No compilation necessary; Python infers variable types at runtime, allowing quick experimentation. \n",
    "\n",
    "---\n",
    "\n",
    "##  3. Basic Syntax & Structure\n",
    "\n",
    "- **Indentation**: Essential for defining code blocks (`if`, `for`, `def`). Python enforces consistent indentation. \n",
    "- **\"Hello, World!\" Example**:\n",
    "  ```python\n",
    "  print(\"Hello, World!\")\n"
   ]
  },
  {
   "cell_type": "markdown",
   "id": "a37a619c-4b30-418c-9d4f-5bd6295dd916",
   "metadata": {},
   "source": [
    "- **Line-by-line Execution:** No semicolons needed; each line is a statement.  "
   ]
  },
  {
   "cell_type": "markdown",
   "id": "20846c7e-aaac-4640-ac78-f749ff664a6d",
   "metadata": {},
   "source": [
    "---"
   ]
  },
  {
   "cell_type": "markdown",
   "id": "38f21aeb-e905-49c0-a9c5-9ecb6a63b0e8",
   "metadata": {},
   "source": [
    "## 4. Variables & Data Types"
   ]
  },
  {
   "cell_type": "markdown",
   "id": "1c0e555f-6b7d-46c8-a05b-664fac9b79ed",
   "metadata": {},
   "source": [
    "Python supports built-in data types including:\n",
    "\n",
    "- Integers (int)\n",
    "- Floats (float)\n",
    "- Strings (str)\n",
    "- Booleans (bool)\n",
    "- Collections: Lists, Tuples, Sets, Dictionaries"
   ]
  },
  {
   "cell_type": "code",
   "execution_count": 1,
   "id": "e73ae50e-4bd7-4515-ab40-9e57584bb3fb",
   "metadata": {},
   "outputs": [],
   "source": [
    "x = 10           # int\n",
    "y = 3.14         # float\n",
    "name = \"Alice\"   # string\n",
    "active = True    # boolean\n"
   ]
  },
  {
   "cell_type": "markdown",
   "id": "772d307e-07ea-49c1-b42c-56ed67263006",
   "metadata": {},
   "source": [
    "## 5. Control Flow Statements"
   ]
  },
  {
   "cell_type": "markdown",
   "id": "773ed1bf-b0dc-4339-8169-e58bdb5f6600",
   "metadata": {},
   "source": [
    "#### Conditional Statements"
   ]
  },
  {
   "cell_type": "code",
   "execution_count": 3,
   "id": "be3853aa-1757-4f32-9cd6-d96df981a3f8",
   "metadata": {},
   "outputs": [
    {
     "name": "stdout",
     "output_type": "stream",
     "text": [
      "Positive\n"
     ]
    }
   ],
   "source": [
    "if x > 0:\n",
    "    print(\"Positive\")\n",
    "elif x == 0:\n",
    "    print(\"Zero\")\n",
    "else:\n",
    "    print(\"Negative\")\n"
   ]
  },
  {
   "cell_type": "markdown",
   "id": "75813773-3b66-4542-8054-08496f9cd66a",
   "metadata": {},
   "source": [
    "#### Loops"
   ]
  },
  {
   "cell_type": "code",
   "execution_count": 4,
   "id": "a6cb7050-24ab-486d-bdf2-8d0927e35664",
   "metadata": {},
   "outputs": [
    {
     "name": "stdout",
     "output_type": "stream",
     "text": [
      "0\n",
      "1\n",
      "2\n",
      "3\n",
      "4\n"
     ]
    }
   ],
   "source": [
    "for i in range(5):\n",
    "    print(i)\n"
   ]
  },
  {
   "cell_type": "code",
   "execution_count": 5,
   "id": "e53ec818-3021-4843-994f-69b056b75c97",
   "metadata": {},
   "outputs": [],
   "source": [
    "while x > 0:\n",
    "    x -= 1\n"
   ]
  },
  {
   "cell_type": "markdown",
   "id": "aeb3af40-eb73-47cc-8a84-e8610c952510",
   "metadata": {},
   "source": [
    "## 6. Functions & Modules"
   ]
  },
  {
   "cell_type": "code",
   "execution_count": 8,
   "id": "53c68cd3-16fa-4449-bff1-3b9c5218379e",
   "metadata": {},
   "outputs": [
    {
     "data": {
      "text/plain": [
       "'Hello, Devi!'"
      ]
     },
     "execution_count": 8,
     "metadata": {},
     "output_type": "execute_result"
    }
   ],
   "source": [
    "#Defining functions:\n",
    "def greet(name):\n",
    "    return f\"Hello, {name}!\"\n",
    "greet('Devi')"
   ]
  },
  {
   "cell_type": "code",
   "execution_count": 7,
   "id": "d15f3615-f4ab-41d6-8f8b-88007e0fed73",
   "metadata": {},
   "outputs": [
    {
     "name": "stdout",
     "output_type": "stream",
     "text": [
      "4.0\n"
     ]
    }
   ],
   "source": [
    "#Modules: Reuse code using imports:\n",
    "import math\n",
    "print(math.sqrt(16))\n"
   ]
  },
  {
   "cell_type": "markdown",
   "id": "92b0c060-63c2-4813-a786-e9e7bc4fcb7a",
   "metadata": {},
   "source": [
    "| Concept             | Description                                                 |\n",
    "| ------------------- | ----------------------------------------------------------- |\n",
    "| Language Overview   | High-level, readable, multi-paradigm                        |\n",
    "| Advantages          | Simple syntax, cross-platform, rich ecosystem               |\n",
    "| Core Syntax         | Indentation-based blocks, no semicolons, dynamic typing     |\n",
    "| Data Types          | ints, floats, strings, booleans, lists, dicts, tuples, sets |\n",
    "| Control Flow        | if/elif/else, for and while loops                           |\n",
    "| Functions & Modules | Reusable functions, importable modules                      |\n",
    "| Learning Tools      | REPL, IDLE, Thonny, Turtle for graphical learning           |\n",
    "| Applications        | Web dev, data science, automation, AI, desktop apps         |\n"
   ]
  },
  {
   "cell_type": "code",
   "execution_count": null,
   "id": "d4be6ded-e6f9-4b40-bd8c-38425ceb5f38",
   "metadata": {},
   "outputs": [],
   "source": []
  }
 ],
 "metadata": {
  "kernelspec": {
   "display_name": "Python 3 (ipykernel)",
   "language": "python",
   "name": "python3"
  },
  "language_info": {
   "codemirror_mode": {
    "name": "ipython",
    "version": 3
   },
   "file_extension": ".py",
   "mimetype": "text/x-python",
   "name": "python",
   "nbconvert_exporter": "python",
   "pygments_lexer": "ipython3",
   "version": "3.13.1"
  }
 },
 "nbformat": 4,
 "nbformat_minor": 5
}
