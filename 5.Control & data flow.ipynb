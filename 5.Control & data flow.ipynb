{
 "cells": [
  {
   "cell_type": "markdown",
   "id": "181c092a-9cd8-43b9-bb6a-274af3760feb",
   "metadata": {},
   "source": [
    "# Program Flow vs Data Flow in Python\n",
    "\n",
    "Understanding how a program executes and how data moves through it is essential for writing robust and maintainable code. Below, we break down the two foundational concepts: **control flow** and **data flow**.\n",
    "\n",
    "---\n",
    "\n",
    "## 1. Control Flow\n",
    "\n",
    "**Control flow** refers to the order in which individual statements, instructions, or function calls are executed in a program. It defines the execution path your program follows. \n",
    "\n",
    "### Common Control Flow Structures in Python:\n",
    "- **Sequential execution**: default—code runs top to bottom.\n",
    "  \n",
    "- **Conditionals**: `if`, `elif`, `else` for branching logic.\n",
    "\n",
    "- **Loops**: `for` and `while` for repeating code blocks.\n",
    "\n",
    "- **Exception handling**: `try...except` blocks to manage errors.\n",
    "\n",
    "These constructs allow you to control which parts of your code execute and when. \n",
    "\n",
    "### Key Concept:\n",
    "- The program counter is directed through different code paths based on your control structures.\n",
    "\n",
    "- Tools like **Control-Flow Graphs (CFGs)** visually represent possible execution paths in a program. They are useful for optimization and static analysis. \n",
    "---\n",
    "\n",
    "## 2. Data Flow\n",
    "\n",
    "**Data flow** is about how data values move and change throughout the program—particularly how values are assigned, used, and propagated. In compiler theory, it refers to analyzing when and where data definitions reach their use in the code.\n",
    "\n",
    "### Common Data Flow Analyses:\n",
    "- **Reaching Definitions**: Determines if a variable’s definition can reach a particular use.\n",
    "- **Live Variable Analysis**: Identifies if a variable’s value will be used in the future.\n",
    "- **Available Expressions**: Detects computed results that can be reused to avoid recomputation.\n",
    "\n",
    "These analyses are performed over the program’s Control-Flow Graph to ensure accuracy. \n",
    "\n",
    "---\n",
    "\n",
    "## 3. Control Flow vs Data Flow: High-Level Perspective\n",
    "\n",
    "| Aspect           | Control Flow                                      | Data Flow                                                   |\n",
    "|------------------|---------------------------------------------------|-------------------------------------------------------------|\n",
    "| Definition       | Order of code execution                          | Movement and transformation of data                         |\n",
    "| Focus            | Execution paths and branching                    | How data values are defined, used, reused, or propagated    |\n",
    "| Purpose          | Decide what code runs and when                   | Track and optimize data usage and dependencies              |\n",
    "| Analysis Tools   | Control-Flow Graphs (CFG), flowcharts            | Data-flow analysis techniques like reaching definitions, live variables, etc. |\n",
    "\n",
    "---\n",
    "\n",
    "## 4. Alternate Perspective: Data-Driven vs Imperative Models\n",
    "\n",
    "In **imperative languages** like Python, the emphasis is on explicit control flow—\"do this, then that.\" \n",
    "In contrast, a **dataflow programming** model centers computation around data availability. Operations execute automatically once inputs are ready. One example library for Python is **Pythonflow**, which lets you define operations as a Directed Acyclic Graph (DAG)—data then triggers computation. \n",
    "\n",
    "---\n",
    "\n",
    "##  Summary\n",
    "\n",
    "- **Control Flow** controls *how* the program executes.\n",
    "- **Data Flow** tracks *how* data is defined, transformed, and consumed.\n",
    "- Deep understanding of both is key for debugging, optimizing, and building complex applications.\n",
    "\n",
    "---\n",
    "\n"
   ]
  },
  {
   "cell_type": "code",
   "execution_count": null,
   "id": "2fdf306e-692f-4776-ac8e-e26e789b8545",
   "metadata": {},
   "outputs": [],
   "source": [
    "\n"
   ]
  }
 ],
 "metadata": {
  "kernelspec": {
   "display_name": "Python 3 (ipykernel)",
   "language": "python",
   "name": "python3"
  },
  "language_info": {
   "codemirror_mode": {
    "name": "ipython",
    "version": 3
   },
   "file_extension": ".py",
   "mimetype": "text/x-python",
   "name": "python",
   "nbconvert_exporter": "python",
   "pygments_lexer": "ipython3",
   "version": "3.13.1"
  }
 },
 "nbformat": 4,
 "nbformat_minor": 5
}
