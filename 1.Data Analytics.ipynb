{
 "cells": [
  {
   "cell_type": "markdown",
   "id": "a3477c06-8fc0-4109-824d-be2097e4690e",
   "metadata": {},
   "source": [
    "# Data Analytics Concepts\n",
    "\n",
    "\n",
    "## 1. What Is Data Analytics?\n",
    "Data analytics involves **collecting**, **cleaning**, **analyzing**, and **interpreting** raw data to uncover insights that inform decision-making and problem-solving \n",
    "\n",
    "---\n",
    "## 2. Types of Data Analytics\n",
    "\n",
    "- **Descriptive Analytics**: Answers \"What happened?\" by summarizing past data.\n",
    "- **Diagnostic Analytics**: Explains \"Why it happened?\"—delving deeper into underlying causes.\n",
    "- **Predictive Analytics**: Forecasts \"What is likely to happen?\" using statistical models, machine learning, and data mining.\n",
    "- **Prescriptive Analytics**: Recommends \"How to respond?\" by suggesting actions, simulating scenarios, and optimizing decisions—often using AI and ML.\n",
    "\n",
    "---\n",
    "## 2.1 Four Core Types of Analytics\n",
    "\n",
    "| Type              | Question Answered         | Purpose |\n",
    "|------------------|----------------------------|---------|\n",
    "| **Descriptive**  | What happened?             | Summarizes historical data; identifies patterns  |\n",
    "| **Diagnostic**   | Why did it happen?         | Looks deeper to find causes |\n",
    "| **Predictive**   | What is likely going to happen? | Uses models to forecast future events  |\n",
    "| **Prescriptive** | What should we do?         | Recommends actions using optimization and simulation |\n",
    "\n",
    "\n",
    "---\n",
    "\n",
    "## 3. Data Analytics Process\n",
    "\n",
    "Data Analytics typically follows several key stages:\n",
    "\n",
    "- **Requirement Gathering** – Define business problems or questions.\n",
    "\n",
    "- **Data Collection**– Gather raw data from various sources.\n",
    "\n",
    "- **Data Cleaning** – Address missing values, inconsistencies, duplicates.\n",
    "\n",
    "- **Data Analysis** – Apply statistical techniques, ML models, or NLP.\n",
    "\n",
    "- **Interpretation** – Understand patterns in context and derive insights.\n",
    "\n",
    "- **Visualization/Reporting** – Present insights via charts, dashboards, narratives.\n",
    "\n",
    "---\n",
    "\n",
    "## 4. Foundational Concepts & Techniques\n",
    "\n",
    "- **Business Intelligence (BI)**: Dashboards, reporting tools, and KPIs enable descriptive and diagnostic insight generation \n",
    "- **Descriptive Statistics**: Tools like mean, median, variance, and standard deviation form the backbone of initial data exploration \n",
    "- **Data Modeling**: Structuring relationships for databases and analytical workflows \n",
    "- **Machine Learning & Data Mining**: Techniques for pattern detection, classification, clustering, and anomaly detection\n",
    "- **Text Analytics & NLP**: Processing unstructured text (e.g., sentiment, topics)\n",
    "\n",
    "---"
   ]
  },
  {
   "cell_type": "markdown",
   "id": "527c7c72-bcbb-42c3-9534-2d8374577d17",
   "metadata": {},
   "source": [
    "| Category           | Concepts & Examples                                             |\n",
    "| ------------------ | --------------------------------------------------------------- |\n",
    "| Analytics Types    | Descriptive, Diagnostic, Predictive, Prescriptive               |\n",
    "| Process Steps      | Requirement → Collect → Clean → Analyze → Interpret → Visualize |\n",
    "| Techniques         | Data Mining, ML, BI, Statistical Methods, NLP/Text Analytics    |\n",
    "| Data Types & Modes | Structured vs. Unstructured, Real-time Analytics, Behavioral    |\n",
    "| Foundations        | BI, Data Modeling, Data Strategy, Descriptive Statistics        |\n",
    "| Trends             | Dark Data & AI leverage, ROI-focused Automation                 |\n"
   ]
  },
  {
   "cell_type": "markdown",
   "id": "12dd0cb8-289b-492c-9119-db649f465ed3",
   "metadata": {},
   "source": [
    "## 5.Key Concepts & Techniques"
   ]
  },
  {
   "cell_type": "markdown",
   "id": "2640743d-750c-4b75-87c5-5975a9c21d93",
   "metadata": {},
   "source": [
    "- **Data Mining**: Discovery of patterns using techniques like clustering, classification, regression, anomaly detection, and association rule learning. business understanding → data understanding → preparation → modeling → evaluation → deployment are widely used."
   ]
  },
  {
   "cell_type": "markdown",
   "id": "750dc6a4-9bf1-49d5-be59-1e109ec94b76",
   "metadata": {},
   "source": [
    "- **Business Intelligence (BI)**: Tools and infrastructure for analyzing and visualizing business data. Includes dashboards, reports, and KPI tracking.\n",
    "BI overlaps with descriptive, predictive, and prescriptive analytics.\n"
   ]
  },
  {
   "cell_type": "markdown",
   "id": "4205c57f-cc60-4170-97cf-a3516a7f510f",
   "metadata": {},
   "source": [
    "- **Data Modeling**: Structuring data to define relationships—essential for databases, warehouses, and efficient querying."
   ]
  },
  {
   "cell_type": "markdown",
   "id": "fdc7949f-b21a-4d21-8051-674b452638fd",
   "metadata": {},
   "source": [
    "- **Machine Learning (ML)**: Automates finding patterns and predictions—foundational for predictive and prescriptive analytics."
   ]
  },
  {
   "cell_type": "markdown",
   "id": "f0693500-1a36-4e42-a0ac-ced93a9137c1",
   "metadata": {},
   "source": [
    "- **Text Analytics / NLP**: Analyzes unstructured text data (e.g. reviews, emails) for sentiment, topics, and trends."
   ]
  },
  {
   "cell_type": "markdown",
   "id": "957e4e3f-ee04-48af-9e49-be6f8560d2df",
   "metadata": {},
   "source": [
    "- **Sentiment Analysis:** Evaluates emotional tone in text—e.g., analyzing social media or feedback.\n"
   ]
  },
  {
   "cell_type": "markdown",
   "id": "3b126ed0-acd5-444c-8793-fdfb4379921d",
   "metadata": {},
   "source": [
    "- **Behavioral Analytics**: Focuses on understanding user actions (clicks, navigation, interactions) to predict future behaviors, optimize experience, or detect anomalies."
   ]
  },
  {
   "cell_type": "markdown",
   "id": "1e9c1bff-9a8d-4916-849e-4eb38dd7169d",
   "metadata": {},
   "source": [
    "- **Continuous Analytics:** Enables real-time data processing and insights—bypasses traditional batch ETL pipelines in favor of cloud-native and streaming methods."
   ]
  },
  {
   "cell_type": "markdown",
   "id": "5742f69e-d57a-4990-8257-a3d5166b1a35",
   "metadata": {},
   "source": [
    "- **Unstructured Data Handling:** Involves structuring and extracting meaning from non-tabular data using tagging, NLP, and other techniques.\n",
    "\n",
    "---"
   ]
  },
  {
   "cell_type": "markdown",
   "id": "fd5be332-1254-4b7e-8095-2f970ba7b506",
   "metadata": {},
   "source": [
    "## 6. Why It Matters\n",
    "\n",
    "Employing a full analytics spectrum—descriptive, diagnostic, predictive, prescriptive, and real-time—helps businesses make informed, timely, and optimized decisions by:\n",
    "\n",
    "- Understanding current and past trends,\n",
    "\n",
    "- Diagnosing root causes,\n",
    "\n",
    "- Forecasting future scenarios,\n",
    "\n",
    "- Recommending actions,\n",
    "\n",
    "- Reacting instantly to changing conditions\n",
    "\n",
    "---"
   ]
  },
  {
   "cell_type": "markdown",
   "id": "d5c5b289-6163-4528-af0e-70328eec85c0",
   "metadata": {},
   "source": [
    "## 7.Summary"
   ]
  },
  {
   "cell_type": "markdown",
   "id": "aac0b4c9-dd9c-4cbe-a5e1-415421d2f1f3",
   "metadata": {},
   "source": [
    "Analytics combines statistics, programming, and operational research to interpret data and guide decisions across domains like marketing, finance, security, and more"
   ]
  },
  {
   "cell_type": "markdown",
   "id": "edb9a17b-b95c-4476-a000-67e55fed341e",
   "metadata": {},
   "source": [
    "**Data Analytics**: Turning raw data into insight.\n",
    "\n",
    "### Types:\n",
    "\n",
    "- Descriptive: What happened?\n",
    "\n",
    "- Diagnostic: Why?\n",
    "\n",
    "- Predictive: What might happen?\n",
    "\n",
    "- Prescriptive: What should we do?\n",
    "\n",
    "- (Optionally) Real-time: Immediate insights.\n",
    "\n",
    "#### Techniques:\n",
    "\n",
    "Exploratory analysis, data mining (CRISP-DM), continuous analytics.\n",
    "\n",
    "Foundations: BI tools, descriptive statistics, machine learning, and strategic planning."
   ]
  },
  {
   "cell_type": "code",
   "execution_count": null,
   "id": "791db7cb-5425-4cf4-b497-a1428d8c7414",
   "metadata": {},
   "outputs": [],
   "source": []
  }
 ],
 "metadata": {
  "kernelspec": {
   "display_name": "Python 3 (ipykernel)",
   "language": "python",
   "name": "python3"
  },
  "language_info": {
   "codemirror_mode": {
    "name": "ipython",
    "version": 3
   },
   "file_extension": ".py",
   "mimetype": "text/x-python",
   "name": "python",
   "nbconvert_exporter": "python",
   "pygments_lexer": "ipython3",
   "version": "3.13.1"
  }
 },
 "nbformat": 4,
 "nbformat_minor": 5
}
